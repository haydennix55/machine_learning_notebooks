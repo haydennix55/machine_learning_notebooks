{
 "cells": [
  {
   "cell_type": "markdown",
   "metadata": {},
   "source": [
    "# Decision tree, K-nearest neighbor, and the Bias-Variance Trade-Off\n",
    "\n",
    "**Acknowledgment**: Noah Smith, Chris Ketelsen"
   ]
  },
  {
   "cell_type": "code",
   "execution_count": 3,
   "metadata": {},
   "outputs": [],
   "source": [
    "import math\n",
    "import pickle\n",
    "import gzip\n",
    "import numpy as np\n",
    "import matplotlib.pylab as plt\n",
    "%matplotlib inline"
   ]
  },
  {
   "cell_type": "markdown",
   "metadata": {},
   "source": [
    "### [30 points] Problem 1 - Decision tree\n",
    "***\n",
    "\n",
    "Consider the problem of predicting whether a person has a college degree based on age, salary, and Colorado residency. \n",
    "The dataset looks like the following.\n",
    "\n",
    "| Age   | Salary         | Colorado Residency      | College degree| \n",
    "|:------:|:------------:| :-----------:|---:|\n",
    "| 24 | 40,000 | Yes | Yes |\n",
    "| 53 | 52,000 | No | No |\n",
    "| 23 | 25,000 | Yes | No |\n",
    "| 25 | 77,000 | Yes | Yes |\n",
    "| 32 | 48,000 | No | Yes |\n",
    "| 52 | 110,000 | Yes | Yes |\n",
    "| 22 | 38,000 | Yes | Yes |\n",
    "| 43 | 44,000 | Yes | No |\n",
    "| 52 | 27,000 | No | No |\n",
    "| 48 | 65,000 | Yes | Yes |\n"
   ]
  },
  {
   "cell_type": "markdown",
   "metadata": {},
   "source": [
    "**Part 1 [5 points]**: Convert the above table to data. Two variables should be created:\n",
    "        \n",
    "1. $x$ is a $10*3$ matrix that contains the data from columns 0, 1, and 2. Colorado residency is represented by 1 (yes) and 0 (no).\n",
    "2. $y$ contains the labels (college degree), 1 (yes) and 0 (no)."
   ]
  },
  {
   "cell_type": "code",
   "execution_count": 4,
   "metadata": {},
   "outputs": [],
   "source": [
    "x = np.array([[24, 40000, 1],\n",
    "    [53, 52000, 0],\n",
    "    [23, 25000, 1],\n",
    "    [25, 77000, 1],\n",
    "    [32, 48000, 0],\n",
    "    [52, 110000, 1],\n",
    "    [22, 38000, 1],\n",
    "    [43, 44000, 1],\n",
    "    [52, 27000, 0],\n",
    "    [48, 65000, 1]])\n",
    "\n",
    "y = [1,0,0,1,1,1,1,0,0,1]"
   ]
  },
  {
   "cell_type": "markdown",
   "metadata": {},
   "source": [
    "**Part 2 [16 points]:** Criteria for choosing a feature to split.\n",
    "\n",
    "**[2 points]** We start with no splitting. Assuming that our algorithm is deterministic, what is the smallest number of mistakes we can make if we do not use any of the features and what is the algorithm? (**Write your answer in the Markdown cell below.**)\n",
    "\n",
    "**The algorithm without splitting on any features is to predict the label that occurs most often in the dataset. In this case, we would always predict \"Yes\", and in our dataset, the smallest number of mistakes we could make is 4.**"
   ]
  },
  {
   "cell_type": "markdown",
   "metadata": {},
   "source": [
    "**[5 points]** We start by considering the variable *Colorado residency*. The first criteria is based on the numbeer of mistakes. We need to build a confusion matrix between Colorado residency and college degree.\n",
    "\n",
    "How many mistakes will we make if we split based on Colorado residency? (**Answer below by finishing the code.**)"
   ]
  },
  {
   "cell_type": "code",
   "execution_count": 7,
   "metadata": {},
   "outputs": [
    {
     "name": "stdout",
     "output_type": "stream",
     "text": [
      "Number of mistakes: 3\n"
     ]
    }
   ],
   "source": [
    "def get_error_in_leaf(y, ids):\n",
    "    \"\"\"\n",
    "    Returns the errors in a leaf node of a decision tree.\n",
    "    This function can be used to answer the previous question automatically.\n",
    "    \n",
    "    :@param y: all labels\n",
    "    :@param ids: the subset of indexes in the leaf node\n",
    "    \"\"\"\n",
    "    count_zero, count_one = 0,0\n",
    "    for i in ids:\n",
    "        if y[i] == 0:\n",
    "            count_zero += 1\n",
    "        else:\n",
    "            count_one += 1\n",
    "            \n",
    "    return min(count_one, count_zero)\n",
    "\n",
    "def error_criteria(y, root, left_child, right_child):\n",
    "    \"\"\"\n",
    "    Returns the number of errors if we split the root into the left child and the right child.\n",
    "    \n",
    "    :@param y: all labels\n",
    "    :@param root: indexes of all the data points in the root\n",
    "    :@param left_child: the subset of indexes in the left child\n",
    "    :@param right_child: the subset of indexes in the right child\n",
    "    \"\"\"\n",
    "    return get_error_in_leaf(y, left_child) + get_error_in_leaf(y, right_child)\n",
    "\n",
    "def value_split_binary_feature(x, y, fid, root, criteria_func):\n",
    "    left_child = [i for i in root if x[i, fid] == 0]\n",
    "    right_child = [i for i in root if x[i, fid] == 1]\n",
    "    return criteria_func(y, root, left_child, right_child)\n",
    "\n",
    "# Colorado residency should correpsond to the third column in your data x\n",
    "fid = 2\n",
    "root = list(range(len(y))) # root includes all data points\n",
    "mistakes = value_split_binary_feature(x, y, fid, root, error_criteria)\n",
    "print(\"Number of mistakes: %d\" % mistakes)"
   ]
  },
  {
   "cell_type": "markdown",
   "metadata": {},
   "source": [
    "**[3 points]** Alternatively, we can use information gain to split the data. To get you familiar with MathJax, please write the equation necessary to compute information gain if we split data $D$ into $D_1$ and $D_2$. **Write your answer in the Markdown cell below.**"
   ]
  },
  {
   "cell_type": "markdown",
   "metadata": {},
   "source": [
    "\\begin{equation*}\n",
    "IG\\left(D \\rightarrow D_1,D_2\\right) = H\\left(D\\right) - \\frac{\\left| D_1 \\right|}{\\left| D \\right|}H\\left( D_1 \\right) - \\frac{\\left| D_2 \\right|}{\\left| D \\right|}H\\left( D_2 \\right) , \\\\[0.5cm] \\text{where  } H\\left(x\\right) = -p\\log_2\\left(p\\right) - \\left(1 - p\\right)\\log_2\\left(1 - p\\right) , \\\\[0.5cm] \\text{where } p \\text{ is the positive fraction of the class } x\n",
    "\\end{equation*}"
   ]
  },
  {
   "cell_type": "markdown",
   "metadata": {},
   "source": [
    "**[6 points]** Now we write a function for computing information gain. Use log2 for entropy computation."
   ]
  },
  {
   "cell_type": "code",
   "execution_count": 8,
   "metadata": {},
   "outputs": [
    {
     "name": "stdout",
     "output_type": "stream",
     "text": [
      "Information gain: 0.0912774462416801\n"
     ]
    }
   ],
   "source": [
    "def entropy(y, ids):\n",
    "    \"\"\"\n",
    "    Returns the entropy in the labels for the data points in ids.\n",
    "    \n",
    "    :@param y: all labels\n",
    "    :@param ids: the indexes of data points\n",
    "    \"\"\"\n",
    "    if len(ids) == 0: # deal with corner case when there is no data point.\n",
    "        return 0\n",
    "    \n",
    "    pos_count = 0\n",
    "    for i in ids:\n",
    "        if y[i] == 1:\n",
    "            pos_count += 1\n",
    "            \n",
    "    p = pos_count/len(ids)\n",
    "    if p == 0 or p == 1:\n",
    "        return 0\n",
    "    else:\n",
    "        return -(p * math.log(p,2)) - ((1.0-p) * math.log(1.0-p,2))\n",
    "            \n",
    "def information_gain_criteria(y, root, left_child, right_child):\n",
    "    \"\"\"\n",
    "    Returns the information gain by splitting root into left child and right child.\n",
    "    \n",
    "    :@param y: all labels\n",
    "    :@param root: indexes of all the data points in the root\n",
    "    :@param left_child: the subset of indexes in the left child\n",
    "    :@param right_child: the subset of indexes in the right child\n",
    "    \"\"\"\n",
    "    return entropy(y, root) - ((abs(len(left_child))/abs(len(root))) * entropy(y, left_child)) - ((abs(len(right_child))/abs(len(root))) * entropy(y, right_child))\n",
    "    \n",
    "fid = 2\n",
    "root = list(range(len(y))) # root includes all data points\n",
    "info_gain = value_split_binary_feature(x, y, fid, root, information_gain_criteria)\n",
    "\n",
    "#NOTE: I added this print statement here, it may need to be removed for autograding\n",
    "print(\"Information gain:\", info_gain)"
   ]
  },
  {
   "cell_type": "markdown",
   "metadata": {},
   "source": [
    "**Part 3 [9 points]**: Deal with continuous features.\n",
    "    \n",
    "**[6 points]** One way to deal with continuous (or ordinal) data is to define binary features based on thresholding of continuous features like Age and Salary.\n",
    "For example, you might convert ages to 0 if age is less than or equal to 50 and 1 otherwise."
   ]
  },
  {
   "cell_type": "code",
   "execution_count": 9,
   "metadata": {},
   "outputs": [
    {
     "name": "stdout",
     "output_type": "stream",
     "text": [
      "Age: max information gain of 0.1444843438056279 with threshold of just below 53\n",
      "Salary: max information gain of 0.3219280948873623 with threshold of just below 38000\n"
     ]
    }
   ],
   "source": [
    "def value_split_continuous_feature(x, y, fid, root, criteria_func=information_gain_criteria):\n",
    "    \"\"\"\n",
    "    Return the best value and its corresponding threshold by splitting based on a continuous feature.\n",
    "\n",
    "    :@param x: all feature values\n",
    "    :@param y: all labels\n",
    "    :@param fid: feature id to split the tree based on\n",
    "    :@param root: indexes of all the data points in the root\n",
    "    :@param criteria_func: the splitting criteria function\n",
    "    \"\"\"\n",
    "    best_value, best_thres = 0, 0\n",
    "    # Loop over the values defined by root, compute the information gain of splitting with that as threshold\n",
    "    # and take the max information gain\n",
    "    for i in root:\n",
    "        left_child = [j for j in root if x[j, fid] < x[i, fid]]\n",
    "        right_child = [j for j in root if x[j, fid] >= x[i, fid]]\n",
    "                \n",
    "        ig = criteria_func(y, root, left_child, right_child)\n",
    "        if ig > best_value:\n",
    "            best_value = ig\n",
    "            best_thres = x[i, fid]\n",
    "            \n",
    "    return best_value, best_thres\n",
    "\n",
    "root = list(range(len(y))) # root includes all data points\n",
    "fid = 0\n",
    "age_value, age_thres = value_split_continuous_feature(x, y, fid, root, information_gain_criteria)\n",
    "fid = 1\n",
    "salary_value, salary_thres = value_split_continuous_feature(x, y, fid, root, information_gain_criteria)\n",
    "print(\"Age: max information gain of\", age_value, \"with threshold of just below\", age_thres)\n",
    "print(\"Salary: max information gain of\", salary_value, \"with threshold of just below\", salary_thres)"
   ]
  },
  {
   "cell_type": "markdown",
   "metadata": {},
   "source": [
    "**[3 points]** Based on the current information gain by splitting different features, if we build a decision stump (decision tree with depth 1) greedily, which feature should we choose? **Write down your answer in the Markdown cell below.**"
   ]
  },
  {
   "cell_type": "markdown",
   "metadata": {},
   "source": [
    "**To build a decision stump greedily, we would split on the _salary_ feature as that warranted greater information gain than the age feature**"
   ]
  },
  {
   "cell_type": "markdown",
   "metadata": {},
   "source": [
    "### [35 points] Problem 2- KNN for Handwritten Digit Recognition \n",
    "***\n",
    "\n",
    "In this problem you'll implement a K-Nearest Neighbor framework to take an image of a handwritten digit and predict which digit it corresponds to.  \n",
    "\n",
    "![Samples of Handwritten Digits](figs/mnist.png \"MNIST Digits\")\n",
    "\n",
    "To keep run times down we'll only consider the subset of the MNIST data set consisting of the digits $3, 7, 8$ and $9$. \n",
    "\n",
    "**Part A [6 points]**: Executing the following cells will load training and validation data and plot an example handwritten digit.  Explore the training and validation sets and answer the following questions: \n",
    "\n",
    "- How many pixels are in each image in the data set?  \n",
    "- How many examples are there from each class in the training set? \n",
    "- How many examples are there from each class in the validation set? "
   ]
  },
  {
   "cell_type": "code",
   "execution_count": 14,
   "metadata": {},
   "outputs": [],
   "source": [
    "X_train, y_train, X_valid, y_valid = pickle.load(gzip.open(\"data/mnist21x21_3789.pklz\", \"rb\"))"
   ]
  },
  {
   "cell_type": "code",
   "execution_count": 15,
   "metadata": {},
   "outputs": [],
   "source": [
    "def view_digit(x, label=None):\n",
    "    fig = plt.figure(figsize=(3,3))\n",
    "    plt.imshow(x.reshape(21,21), cmap='gray');\n",
    "    plt.xticks([]); plt.yticks([]);\n",
    "    if label: plt.xlabel(\"true: {}\".format(label), fontsize=16)"
   ]
  },
  {
   "cell_type": "code",
   "execution_count": 16,
   "metadata": {},
   "outputs": [
    {
     "data": {
      "image/png": "[encoded data removed]",
      "text/plain": [
       "<Figure size 216x216 with 1 Axes>"
      ]
     },
     "metadata": {},
     "output_type": "display_data"
    }
   ],
   "source": [
    "training_index = 0\n",
    "view_digit(X_train[training_index], y_train[training_index])"
   ]
  },
  {
   "cell_type": "code",
   "execution_count": 17,
   "metadata": {},
   "outputs": [
    {
     "name": "stdout",
     "output_type": "stream",
     "text": [
      "Number of pixels in X_train: 441\n",
      "Number of examples from X_train: 4000\n",
      "Number of examples from X_valid: 1000\n"
     ]
    }
   ],
   "source": [
    "# Write code for answering the questions in Part A and then put your answer in the Markdown cell below.\n",
    "print(\"Number of pixels in X_train: %s\" % X_train.shape[1])\n",
    "print(\"Number of examples from X_train: %s\" % X_train.shape[0])\n",
    "print(\"Number of examples from X_valid: %s\" % X_valid.shape[0])"
   ]
  },
  {
   "cell_type": "markdown",
   "metadata": {},
   "source": [
    "**There are _441 pixels_ in each image, making them 21 x 21.**\n",
    "\n",
    "**There are _4000 examples_ in the training data.**\n",
    "\n",
    "**There are _1000 examples_ in the validation data.**"
   ]
  },
  {
   "cell_type": "code",
   "execution_count": 18,
   "metadata": {},
   "outputs": [],
   "source": [
    "class KNN:\n",
    "    \"\"\"\n",
    "    Class to store data for regression problems \n",
    "    \"\"\"\n",
    "    def __init__(self, X_train, y_train, K=5, distance_weighted=False):\n",
    "        \"\"\"\n",
    "        Creates a kNN instance\n",
    "\n",
    "        :param X_train: Training data input in 2D ndarray \n",
    "        :param y_train: Training data output in 1D ndarray \n",
    "        :param K: The number of nearest points to consider in classification\n",
    "        :param distance_weighted: Bool indicating whether to use distance weighting\n",
    "        \"\"\"\n",
    "        \n",
    "        # Import and build the BallTree on training features \n",
    "        from sklearn.neighbors import BallTree\n",
    "        self.balltree = BallTree(X_train)\n",
    "        \n",
    "        # Cache training labels and parameter K \n",
    "        self.y_train = y_train\n",
    "        self.K = K \n",
    "        \n",
    "        # Boolean flag indicating whether to do distance weighting \n",
    "        self.distance_weighted = distance_weighted\n",
    "        \n",
    "    def majority(self, neighbor_indices, neighbor_distances=None):\n",
    "        \"\"\"\n",
    "        Given indices of nearest neighbors in training set, return the majority label. \n",
    "        Break ties by considering 1 fewer neighbor until a clear winner is found. \n",
    "\n",
    "        :param neighbor_indices: The indices of the K nearest neighbors in self.X_train \n",
    "        :param neighbor_distances: Corresponding distances from query point to K nearest neighbors. \n",
    "        \"\"\"\n",
    "        count = {}\n",
    "            \n",
    "        for i, val in enumerate(self.y_train[neighbor_indices]):\n",
    "            if val not in count.keys():\n",
    "                count[val] = 0\n",
    "            if self.distance_weighted:\n",
    "                if neighbor_distances[i] == 0:\n",
    "                    return val\n",
    "                else:\n",
    "                    count[val] += (1/neighbor_distances[i])\n",
    "            else:\n",
    "                count[val] += 1\n",
    "\n",
    "        max_key = max(count, key=count.get)\n",
    "        conflicts  = [k for k,v in count.items() if v == count[max_key]]\n",
    "\n",
    "        if len(conflicts) > 1:\n",
    "            # Note: this only works if neightbor_indices is ordered\n",
    "            if (self.distance_weighted):\n",
    "                return self.majority(neighbor_indices[:-1], neighbor_distances[:-1])\n",
    "            else:\n",
    "                return self.majority(neighbor_indices[:-1], None)\n",
    "        else:\n",
    "            return max_key\n",
    "    \n",
    "    def classify(self, x):\n",
    "        \"\"\"\n",
    "        Given a query point, return the predicted label \n",
    "        \n",
    "        :param x: a query point stored as an ndarray  \n",
    "        \"\"\"\n",
    "        # Find k nearest neighbor indicies\n",
    "        nearest_dists, nearest_inds = self.balltree.query([x], self.K)\n",
    "        return self.majority(nearest_inds[0], nearest_dists[0])\n",
    "        \n",
    "    def predict(self, X):\n",
    "        \"\"\"\n",
    "        Given an ndarray of query points, return yhat, an ndarray of predictions \n",
    "\n",
    "        :param X: an (m x p) dimension ndarray of points to predict labels for \n",
    "        \"\"\"\n",
    "        yhat = [None] * X.shape[0]\n",
    "        for i, v in enumerate(X):\n",
    "            yhat[i] = self.classify(v)\n",
    "            \n",
    "        return yhat"
   ]
  },
  {
   "cell_type": "markdown",
   "metadata": {},
   "source": [
    "**Part B [10 points]**: Modify the class above to implement an Unweighted KNN classifier.  There are three methods that you need to complete: \n",
    "\n",
    "- `predict`: Given an $m \\times p$ matrix of validation data with $m$ examples each with $p$ features, return a length-$m$ vector of predicted labels by calling the `classify` function on each example. \n",
    "- `classify`: Given a single query example with $p$ features, return its predicted class label as an integer using KNN by calling the `majority` function. \n",
    "- `majority`: Given an array of indices into the training set corresponding to the $K$ training examples that are nearest to the query point, return the majority label as an integer.  If there is a tie for the majority label using $K$ nearest neighbors, reduce $K$ by 1 and try again.  Continue reducing $K$ until there is a winning label. \n",
    "\n",
    "**Notes**: \n",
    "- Don't even think about implementing nearest-neighbor search or any distance metrics yourself.  Instead, go read the documentation for Scikit-Learn's [BallTree](http://scikit-learn.org/stable/modules/generated/sklearn.neighbors.BallTree.html) object.  You will find that its implemented [query](http://scikit-learn.org/stable/modules/generated/sklearn.neighbors.BallTree.html#sklearn.neighbors.BallTree.query) method can do most of the heavy lifting for you. \n",
    "- Do not use Scikit-Learn's KNeighborsClassifier in this problem.  We're implementing this ourselves. \n",
    "- You don't need to worry about the `distance_weighted` flag until **Part C**, but we recommend reading ahead a bit. It might be good to think about your implementation of **Part C** before implementing **Part B**. \n",
    "- When you think you're done, execute the following cell to run 4 unit tests based on the example starting on Slide 24 of the [KNN Lecture](https://chenhaot.com/courses/csci4622/slides/lesson05.pdf)."
   ]
  },
  {
   "cell_type": "code",
   "execution_count": 19,
   "metadata": {},
   "outputs": [
    {
     "name": "stderr",
     "output_type": "stream",
     "text": [
      "test1NNclassify (__main__.TestUnweightedKNN) ... ok\n",
      "test2NNclassify (__main__.TestUnweightedKNN) ... ok\n",
      "test3NNclassify (__main__.TestUnweightedKNN) ... ok\n",
      "test3NNpredict (__main__.TestUnweightedKNN) ... ok\n",
      "\n",
      "----------------------------------------------------------------------\n",
      "Ran 4 tests in 2.367s\n",
      "\n",
      "OK\n"
     ]
    },
    {
     "data": {
      "text/plain": [
       "<Figure size 432x288 with 0 Axes>"
      ]
     },
     "metadata": {},
     "output_type": "display_data"
    }
   ],
   "source": [
    "%run -i tests/tests.py \"prob 2A\""
   ]
  },
  {
   "cell_type": "markdown",
   "metadata": {},
   "source": [
    "**Part C [5 points]**: Modify the `KNN` class to perform the distance-weighted KNN classification.\n",
    "The so-called Distance-Weighted KNN classifier assigns weights to the the nearest-neighbor training examples proportional to the inverse-distance from the training example to the query point.  Classification is performed by summing the weights associated with each class and predicting the class with the highest weighted-majority vote.  Mathematically we might describe the weighted-vote for a class $c$ as \n",
    "\n",
    "$$\n",
    "\\textrm{Weighted-Vote}(c) = \\displaystyle\\sum_{i \\in {\\cal N}_K} I(y_i = c) \\times \\dfrac{1}{\\|{\\bf x}_i - {\\bf x}\\|}\n",
    "$$\n",
    "\n",
    "A word of caution: it's certainly possible that a query point could be distance $0$ away from some training example.  If this happens your implementation should handle it gracefully and return the appropriate class label.   \n",
    "\n",
    "When you think you're done, execute the following cell to run three final unit tests corresponding to the example on Slide 43 of the [KNN Lecture](https://chenhaot.com/courses/csci4622/slides/lesson05.pdf). Make sure that the changes you make in **Part C** do not affect the unit tests from **Part B**. "
   ]
  },
  {
   "cell_type": "code",
   "execution_count": 20,
   "metadata": {},
   "outputs": [
    {
     "name": "stderr",
     "output_type": "stream",
     "text": [
      "test5NNclassify (__main__.TestWeightedKNN) ... ok\n",
      "test3NNclassify (__main__.TestWeightedKNN) ... ok\n",
      "test5NNpredict (__main__.TestWeightedKNN) ... ok\n",
      "\n",
      "----------------------------------------------------------------------\n",
      "Ran 3 tests in 0.004s\n",
      "\n",
      "OK\n"
     ]
    }
   ],
   "source": [
    "%run -i tests/tests.py \"prob 2B\""
   ]
  },
  {
   "cell_type": "markdown",
   "metadata": {},
   "source": [
    "**Part D [7 points]**: Use your `KNN` class to perform Unweighted KNN on the validation data with $K=3$ and do the following: \n",
    "\n",
    "- **[2 points]** Create a **confusion matrix** (feel free to use the Scikit-Learn [confusion_matrix](http://scikit-learn.org/stable/modules/generated/sklearn.metrics.confusion_matrix.html) function).  "
   ]
  },
  {
   "cell_type": "code",
   "execution_count": 21,
   "metadata": {},
   "outputs": [
    {
     "name": "stdout",
     "output_type": "stream",
     "text": [
      "[[236   2  10   2]\n",
      " [  1 244   1   4]\n",
      " [  9   0 233   8]\n",
      " [  3   3   0 244]]\n"
     ]
    }
   ],
   "source": [
    "knn = KNN(X_train, y_train, K=3, distance_weighted=True)\n",
    "yhat_valid = knn.predict(X_valid)\n",
    "from sklearn.metrics import confusion_matrix\n",
    "print(confusion_matrix(y_valid, yhat_valid))"
   ]
  },
  {
   "cell_type": "markdown",
   "metadata": {},
   "source": [
    "- **[2 points]** Based on your confusion matrix, which digits seem to get confused with other digits the most? "
   ]
  },
  {
   "cell_type": "markdown",
   "metadata": {},
   "source": [
    "**The digits that are the most often confused for eachother are 3 and 8, with a total of 19 mislabels.**"
   ]
  },
  {
   "cell_type": "markdown",
   "metadata": {},
   "source": [
    "\n",
    "- **[3 points]** Find one misclassified validation example and plot it with the `view_digit` function along with plots of its three nearest neighbors in the training set. \n"
   ]
  },
  {
   "cell_type": "code",
   "execution_count": 23,
   "metadata": {},
   "outputs": [
    {
     "name": "stdout",
     "output_type": "stream",
     "text": [
      "Missed digit: Mislabeled as 9\n"
     ]
    },
    {
     "data": {
      "image/png": "[encoded data removed]",
      "text/plain": [
       "<Figure size 216x216 with 1 Axes>"
      ]
     },
     "metadata": {},
     "output_type": "display_data"
    },
    {
     "data": {
      "image/png": "[encoded data removed]",
      "text/plain": [
       "<Figure size 216x216 with 1 Axes>"
      ]
     },
     "metadata": {},
     "output_type": "display_data"
    },
    {
     "data": {
      "image/png": "[encoded data removed]",
      "text/plain": [
       "<Figure size 216x216 with 1 Axes>"
      ]
     },
     "metadata": {},
     "output_type": "display_data"
    },
    {
     "data": {
      "image/png": "[encoded data removed]",
      "text/plain": [
       "<Figure size 216x216 with 1 Axes>"
      ]
     },
     "metadata": {},
     "output_type": "display_data"
    }
   ],
   "source": [
    "err = -1\n",
    "for i,v in enumerate(yhat_valid):\n",
    "    if v != y_valid[i]:\n",
    "        err = i\n",
    "        break\n",
    "print(\"Missed digit: Mislabeled as %s\" % v)        \n",
    "view_digit(X_valid[err], y_valid[err])\n",
    "\n",
    "_, nearest_inds = knn.balltree.query([X_valid[err]], 3)\n",
    "for i in nearest_inds[0]:\n",
    "    view_digit(X_train[i], y_train[i])"
   ]
  },
  {
   "cell_type": "markdown",
   "metadata": {},
   "source": [
    "**Part E [7 points]**: **[4 points]** Create a plot of the accuracy of both Unweighted and Distance-Weighted KNN on the validation set on the same set of axes for $K=1, 2, \\ldots, 20$ (feel free to go out to $K=30$ if your implementation is efficient enough to allow it)."
   ]
  },
  {
   "cell_type": "code",
   "execution_count": 24,
   "metadata": {},
   "outputs": [
    {
     "name": "stdout",
     "output_type": "stream",
     "text": [
      "[95.6, 95.6, 95.7, 95.9, 96.1, 95.9, 95.9, 95.8, 95.5, 95.1, 95.3, 95.3, 95.4, 95.4, 95.2, 95.3, 95.3, 95.2, 95.0, 95.0, 94.8, 94.8, 94.8, 94.7, 94.6, 94.7, 94.7, 94.6, 94.3]\n",
      "[95.6, 95.6, 95.7, 95.9, 96.1, 95.7, 96.0, 95.8, 95.6, 95.6, 95.3, 95.3, 95.4, 95.4, 95.3, 95.3, 95.5, 95.2, 95.3, 95.2, 94.9, 95.0, 94.8, 94.8, 94.7, 94.8, 94.7, 94.7, 94.4]\n"
     ]
    }
   ],
   "source": [
    "acc = []\n",
    "wacc = []\n",
    "allks = range(1,30)\n",
    "\n",
    "for i in allks:\n",
    "    uw_knn = KNN(X_train, y_train, i, False)\n",
    "    w_knn = KNN(X_train, y_train, i, True)\n",
    "    uw_yhat = uw_knn.predict(X_valid)\n",
    "    w_yhat = w_knn.predict(X_valid)\n",
    "    \n",
    "    uw_correct = 0\n",
    "    w_correct = 0\n",
    "    for j in range(len(y_valid)):\n",
    "        if uw_yhat[j] == y_valid[j]:\n",
    "            uw_correct += 1\n",
    "        if w_yhat[j] == y_valid[j]:\n",
    "            w_correct += 1\n",
    "            \n",
    "    acc.append(uw_correct/10)\n",
    "    wacc.append(w_correct/10)\n",
    "    \n",
    "print(acc)\n",
    "print(wacc)"
   ]
  },
  {
   "cell_type": "code",
   "execution_count": 25,
   "metadata": {},
   "outputs": [
    {
     "data": {
      "image/png": "[encoded data removed]",
      "text/plain": [
       "<Figure size 864x504 with 1 Axes>"
      ]
     },
     "metadata": {
      "needs_background": "light"
     },
     "output_type": "display_data"
    }
   ],
   "source": [
    "fig, ax = plt.subplots(nrows=1,ncols=1,figsize=(12,7))\n",
    "ax.plot(allks, acc, marker=\"o\", color=\"steelblue\", lw=3, label=\"unweighted\")\n",
    "ax.plot(allks, wacc, marker=\"o\", color=\"green\", lw=3, label=\"weighted\")\n",
    "ax.set_xlabel(\"number neighbors\", fontsize=16)\n",
    "ax.set_ylabel(\"accuracy\", fontsize=16)\n",
    "ax.legend(loc=\"upper right\")\n",
    "plt.xticks(range(1,31,2))\n",
    "ax.grid(alpha=0.25)"
   ]
  },
  {
   "cell_type": "markdown",
   "metadata": {},
   "source": [
    "**[4 points]** Based on the plot, answer the following questions: \n",
    "\n",
    "- For general $K$, does Unweighted or Weighted KNN appear to perform better? \n",
    "- Which value of $K$ attains the best accuracy on the validation set? \n"
   ]
  },
  {
   "cell_type": "markdown",
   "metadata": {},
   "source": [
    "- **In General, weighted KNN appears to have slightly better accuracy.**\n",
    "- **$K = 5$ attains the best accuracy in the validation set.**"
   ]
  },
  {
   "cell_type": "markdown",
   "metadata": {},
   "source": [
    "### [30 points] Problem 3 - Polynomial Regression  and the Bias-Variance Trade-Off\n",
    "***\n",
    "\n",
    "In this problem you will use polynomial regression to explore the Bias-Variance Trade-Off. Assume that our data comes from a model of the form \n",
    "\n",
    "$$Y = f(X) + \\epsilon ~~\\textrm{ where }~~ \\epsilon \\sim N(0,\\sigma^2)$$ \n",
    "\n",
    "For our experiments we'll use $f(x) = \\sin(\\pi x)$. The following functions can be used to generate data from this distribution:"
   ]
  },
  {
   "cell_type": "code",
   "execution_count": 29,
   "metadata": {},
   "outputs": [],
   "source": [
    "def get_f(x):\n",
    "    \"\"\"\n",
    "    Returns sin(pi*x) for array of x values\n",
    "    \n",
    "    :@param x: ndarray of feature values\n",
    "    \"\"\"\n",
    "    return np.sin(np.pi * x)"
   ]
  },
  {
   "cell_type": "markdown",
   "metadata": {},
   "source": [
    "**Part A [6 points]**: **[3 points]** Generate a sample of size $n=20$ for $x$-values chosen from a uniform distribution between $0$ and $1$."
   ]
  },
  {
   "cell_type": "code",
   "execution_count": 30,
   "metadata": {},
   "outputs": [],
   "source": [
    "def get_y(x, sigma=1.0):\n",
    "    \"\"\"\n",
    "    Returns y values based on the data generation process.\n",
    "    Note the noise term.\n",
    "    \n",
    "    :@param x: ndarray of feature values\n",
    "    \"\"\"\n",
    "    return get_f(x) + np.random.normal(0,sigma,len(x))\n",
    "def sample(n, sigma=1.0):\n",
    "    \"\"\"Return tuples of data (x, y) that come from \n",
    "    the data generation process.\"\"\"\n",
    "    x = np.random.uniform(0, 1, size=n)\n",
    "    y = get_y(x, sigma=sigma)\n",
    "    return x, y"
   ]
  },
  {
   "cell_type": "markdown",
   "metadata": {},
   "source": [
    "**[3 points]**: Make a scatter plot of the data overlayed with the curve of the true function $f(x)=\\sin(\\pi x)$. "
   ]
  },
  {
   "cell_type": "code",
   "execution_count": 31,
   "metadata": {},
   "outputs": [
    {
     "data": {
      "text/plain": [
       "[<matplotlib.lines.Line2D at 0x1a2341b630>]"
      ]
     },
     "execution_count": 31,
     "metadata": {},
     "output_type": "execute_result"
    },
    {
     "data": {
      "image/png": "[encoded data removed]",
      "text/plain": [
       "<Figure size 504x504 with 1 Axes>"
      ]
     },
     "metadata": {
      "needs_background": "light"
     },
     "output_type": "display_data"
    }
   ],
   "source": [
    "n = 20\n",
    "x, y = sample(n, sigma=.15)\n",
    "xplot = np.linspace(0, 1, 200)\n",
    "fplot = get_f(xplot)\n",
    "fig, ax = plt.subplots(nrows=1, ncols=1, figsize=(7,7))\n",
    "ax.plot(x,y,\"bo\")\n",
    "\n",
    "line_x = np.arange(0,1,0.01)\n",
    "ax.plot(line_x, get_f(line_x), \"k\")"
   ]
  },
  {
   "cell_type": "markdown",
   "metadata": {},
   "source": [
    "**Part B [6 points]**: **[3 points]** Next we need to create a function that can fit a polynomial model to training data and make predictions for unseen data.  Complete the function `poly_predict` below to accomplish this.  Note that there are many ways to do this in Python.  Later this week we'll look into doing this with Scikit-Learn.  You're free to implement it using Scikit-Learn, but you might want to look into Numpy's polynomial fitting functions, [polyfit](https://docs.scipy.org/doc/numpy-1.13.0/reference/generated/numpy.polyfit.html) and [polyval](https://docs.scipy.org/doc/numpy-1.13.0/reference/generated/numpy.polyval.html)."
   ]
  },
  {
   "cell_type": "code",
   "execution_count": 32,
   "metadata": {},
   "outputs": [],
   "source": [
    "def poly_predict(x_train, y_train, x_valid, deg):\n",
    "    \"\"\"\n",
    "    Function to train polynomial regression model on training data\n",
    "    and then return a vector of predictions on validation data\n",
    "    \n",
    "    :@param x_train: vector of training features\n",
    "    :@param y_train: vector of training responses\n",
    "    :@param x_valid: vector of validation features to make predictions with\n",
    "    :@param deg: degree of the polynomial model \n",
    "    \"\"\"\n",
    "    z_hat = np.poly1d(np.polyfit(x_train,y_train,deg))\n",
    "    \n",
    "    prediction = z_hat(x_valid)\n",
    "    return prediction"
   ]
  },
  {
   "cell_type": "markdown",
   "metadata": {},
   "source": [
    "**[3 points]**: Demonstrate that your function is working by using it to generate a plot that include the true function $f(x)$, a scatter plot of your training data, and the curve representing your fitted model. "
   ]
  },
  {
   "cell_type": "code",
   "execution_count": 33,
   "metadata": {},
   "outputs": [
    {
     "data": {
      "text/plain": [
       "<matplotlib.legend.Legend at 0x1a23479a20>"
      ]
     },
     "execution_count": 33,
     "metadata": {},
     "output_type": "execute_result"
    },
    {
     "data": {
      "image/png": "[encoded data removed]",
      "text/plain": [
       "<Figure size 504x504 with 1 Axes>"
      ]
     },
     "metadata": {
      "needs_background": "light"
     },
     "output_type": "display_data"
    }
   ],
   "source": [
    "model_plot = poly_predict(x, y, xplot, 2)\n",
    "\n",
    "fig, ax = plt.subplots(nrows=1, ncols=1, figsize=(7,7))\n",
    "ax.plot(x,y,\"bo\")\n",
    "ax.plot(line_x, get_f(line_x), \"--\", label=\"true function f(x)\")\n",
    "ax.plot(xplot,model_plot, label=\"fitted\")\n",
    "ax.legend(loc=\"upper right\")"
   ]
  },
  {
   "cell_type": "markdown",
   "metadata": {},
   "source": [
    "**Part C [12 points]**: Our goal now will be to make a plot of the decomposition of the expected validation MSE into it's constituent parts.  Recall that we showed in lecture that the expected test MSE can be written as \n",
    "\n",
    "$$\n",
    "\\textrm{E}\\left[\\left(y_0 - \\hat{f}(x_0) \\right)^2\\right] = \\left[~f(x_0) - \\textrm{E}[~\\hat{f}(x_0)~] \\right]^2\n",
    "+ \\textrm{E}\\left[ ~ \\textrm{E}[~\\hat{f}(x_0)]-\\hat{f}(x_0)~\\right]^2 + \\textrm{Var}(\\epsilon)\n",
    "= \\left[\\textrm{Bias}(~\\hat{f}(x_0)\\right]^2 + \\textrm{Var}(~\\hat{f}(x_0)~) + \\textrm{Var}(\\epsilon)\n",
    "$$\n",
    "\n",
    "where $x_0$ represents unseen validation data. We're going to run simulations to estimate $\\left[\\textrm{Bias}(~\\hat{f}(x_0)\\right]^2$ and $\\textrm{Var}(~\\hat{f}(x_0)~)$ for different polynomial models and then plot them against estimates of the true validation MSE. The function `bias_variance_study` below will help you do this.  You just need to fill in a few key parts.  At the end of the day, you should have a plot that looks like this for certain choices of the simulation parameters. "
   ]
  },
  {
   "cell_type": "markdown",
   "metadata": {},
   "source": [
    "The $\\textrm{Bias}^2$ term is given by \n",
    "\n",
    "$$\n",
    "\\left[\\textrm{Bias}(~\\hat{f}(x_0)\\right]^2 = \\left[~f(x_0) - \\textrm{E}[~\\hat{f}(x_0)~] \\right]^2\n",
    "$$\n",
    "\n",
    "The first term inside the square is simply the true function $f$ evaluated on the validation data.  The second term inside the square, $\\textrm{E}[~\\hat{f}(x_0)~]$, is the expected value of all estimated models evaluated on the validation data.  We can estimate this by sampling many many training sets, fitting models, evaluating them on many validation sets, and then taking the average. Complete the `squared_bias` function below to do this computation.  "
   ]
  },
  {
   "cell_type": "markdown",
   "metadata": {},
   "source": [
    "The next step is to estimate the $\\textrm{Variance}$.  Let's unpack it \n",
    "\n",
    "$$\n",
    "\\textrm{E}\\left[ ~ \\hat{f}(x_0) - \\textrm{E}[~\\hat{f}(x_0)]~\\right]^2\n",
    "$$\n",
    "\n",
    "Note that $\\textrm{E}[~\\hat{f}(x_0)]$ is the `mean_model` we got from the `squared_bias` function. The other term, $\\hat{f}(x_0)$, is a model estimated on a random training set, and then evaluated on the validation set.  Since we're wrapping this whole thing in an expectation, we're going to sample many many training sets, estimate $\\hat{f}(x_0)$, and then compute the mean squared deviation between these and the `mean_model`.  You will add code to the function below to accomplish this. \n",
    "\n",
    "We'll also estimate the validation MSE so we can compare this to the bias-variance decomposition, but this portion of the code is completed for you. "
   ]
  },
  {
   "cell_type": "code",
   "execution_count": 34,
   "metadata": {},
   "outputs": [
    {
     "data": {
      "image/png": "[encoded data removed]",
      "text/plain": [
       "<Figure size 576x432 with 1 Axes>"
      ]
     },
     "metadata": {
      "needs_background": "light"
     },
     "output_type": "display_data"
    }
   ],
   "source": [
    "def bias_variance_study(num_data, num_sims, train_frac=0.8, sigma=0.4, max_deg=10, random_state=1234):\n",
    "    '''\n",
    "    Function to run simulations and estimate the squared-bias, variance, and \n",
    "    validation error of polynomial regression models. \n",
    "    \n",
    "    :@param num_data: number of points in simulated data set \n",
    "    :@param num_sims: number of simulations to run \n",
    "    :@param train_frac: fraction of total data in training set\n",
    "    :@param sigma: standard deviation of noise in data \n",
    "    :@param max_deg: largest degree polynomial to analyze\n",
    "    :@param random_state: seed for random state, for reproducibility\n",
    "    '''\n",
    "    # Set random seed \n",
    "    np.random.seed(random_state)\n",
    "    \n",
    "    # array of polynomial degrees\n",
    "    degrees = range(1, max_deg + 1)\n",
    "    \n",
    "    # train/valid split sizes \n",
    "    num_train = int(np.ceil(train_frac * num_data)) # 24\n",
    "    num_valid = num_data - num_train # 6\n",
    "    \n",
    "    # Generate grid of features and shuffle them \n",
    "    x_grid = np.linspace(-1, 1, num_data)\n",
    "    np.random.shuffle(x_grid) # 30 shuffled integers from -1, 1\n",
    "    \n",
    "    # Spit into training and validation sets \n",
    "    x_train = x_grid[:num_train] # 24 of the shuffled integers\n",
    "    x_valid = x_grid[num_train:] # 6 of the shuffled integers\n",
    "    \n",
    "    # Dictionaries for predictions and MSE measurements\n",
    "    # Keys are polynomial degree. Each prediction is column \n",
    "    # of nValid x num_sims array. Each mse is entry in vector\n",
    "    # of length num_sims \n",
    "    y_hat_valid = {deg: np.zeros((num_valid, num_sims)) for deg in degrees}\n",
    "    mses_valid = {deg: np.zeros(num_sims) for deg in degrees}\n",
    "    \n",
    "    # Loop over num_sims simulated data sets\n",
    "    for sim in range(num_sims):\n",
    "        \n",
    "        # Generate training and validation responses \n",
    "        y_train = get_y(x_train, sigma=sigma) # sin(pi * x) + noise of random train\n",
    "        y_valid = get_y(x_valid, sigma=sigma) # sin(pi* x) + noise of random valid\n",
    "        \n",
    "        # Loop over polynomial degree.  Use function from part B \n",
    "        # to fit to training set and predict on validation set.\n",
    "        # Store predictions those predictions in yHatValid[deg]\n",
    "        for d in degrees:\n",
    "            y_hat_valid[d][:,sim] = poly_predict(x_train, y_train, x_valid, d) # prediction using increasing degrees\n",
    "            mses_valid[d][sim] = np.mean((y_valid-y_hat_valid[d][:,sim])**2)\n",
    "    \n",
    "    # Loop over each polynomial degree and compute squared-bias, variance, \n",
    "    # and mean MSE on validation set.  \n",
    "    bias_squared, variance, mse_valid = np.zeros(max_deg), np.zeros(max_deg), np.zeros(max_deg) \n",
    "\n",
    "    for i, d in enumerate(degrees):\n",
    "        bias_squared[i] = np.mean((get_f(x_valid)-np.mean(y_hat_valid[d],axis=1))**2)\n",
    "        variance[i] = np.mean(np.var(y_hat_valid[d],axis=1))\n",
    "        mse_valid[i] = np.mean(mses_valid[d])\n",
    "        \n",
    "    # Plot squared bias, variance, and validation MSE \n",
    "    fig, ax = plt.subplots(nrows=1, ncols=1, figsize=(8,6))\n",
    "    ax.plot(degrees, bias_squared, color=\"steelblue\", lw=3, label=\"Bias**2\")\n",
    "    ax.plot(degrees, variance, color=\"#a76c6e\", lw=3, label=\"Variance\")\n",
    "    ax.plot(degrees, mse_valid, color=\"black\", lw=3, label=\"Valid MSE\")\n",
    "    ax.grid(alpha=0.25)\n",
    "    ax.set_xlabel(\"Model Complexity (Poly Degree)\", fontsize=16)\n",
    "    ax.set_ylabel(\"Error\", fontsize=16)\n",
    "    ax.legend(loc=\"upper left\", fontsize=12)\n",
    "    \n",
    "    # Return arrays of squared-Bias, variance, and MSE \n",
    "    return bias_squared, variance, mse_valid\n",
    "    \n",
    "        \n",
    "bias_squared, variance, mse_valid = bias_variance_study(50, 1000, train_frac=0.80,\n",
    "                                                        sigma=0.4, max_deg=16,\n",
    "                                                        random_state=1241)"
   ]
  },
  {
   "cell_type": "markdown",
   "metadata": {},
   "source": [
    "**Part D [6 points]**: When everything is working, increase the size of the simulated data sets and the number of simulation runs and compare the difference between the validation MSE and the sum of the squared-Bias the Variance for each polynomial degree.  Try this for several values of the standard deviation of the model noise.  What do you notice?  How can you explain this result using the notions of Bias-Variance and Reducible and Irreducible error discussed in class?"
   ]
  },
  {
   "cell_type": "markdown",
   "metadata": {},
   "source": [
    "**For any datasets, a poly degree of 1 has a high bias. Moving above poly degree of 2, the bias drops sharply as the model fits more closely. As the poly degree continus to increase, the variance increases as the model begins to overfit, and the bias remains low. If the dataset size is increased, the variance still climbs as the poly degree increases, but much more slowly, and thus the reducible error is lowered. As the standard deviation increases, the difference between the validation MSE and the sum of the bias^2 and variance increases. These behaviors together show the intuition that an unflexible model will have high bias and low varience, an overly sensitive model will have high varienc and low bias, and the irreducible error increases as the standard deviation increases**"
   ]
  },
  {
   "cell_type": "code",
   "execution_count": null,
   "metadata": {},
   "outputs": [],
   "source": []
  }
 ],
 "metadata": {
  "kernelspec": {
   "display_name": "Python 3",
   "language": "python",
   "name": "python3"
  },
  "language_info": {
   "codemirror_mode": {
    "name": "ipython",
    "version": 3
   },
   "file_extension": ".py",
   "mimetype": "text/x-python",
   "name": "python",
   "nbconvert_exporter": "python",
   "pygments_lexer": "ipython3",
   "version": "3.6.6"
  }
 },
 "nbformat": 4,
 "nbformat_minor": 2
}
