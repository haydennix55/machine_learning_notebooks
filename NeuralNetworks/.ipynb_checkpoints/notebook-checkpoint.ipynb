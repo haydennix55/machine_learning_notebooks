{
 "cells": [
  {
   "cell_type": "markdown",
   "metadata": {},
   "source": [
    "# Neural Networks\n",
    "\n",
    "**Acknowledgment** : Chris Ketelsen\n"
   ]
  },
  {
   "cell_type": "code",
   "execution_count": 1,
   "metadata": {},
   "outputs": [],
   "source": [
    "import math\n",
    "import pickle\n",
    "import gzip\n",
    "import numpy as np\n",
    "import pandas\n",
    "import matplotlib.pylab as plt\n",
    "%matplotlib inline"
   ]
  },
  {
   "cell_type": "markdown",
   "metadata": {},
   "source": [
    "[25 points] Problem 1 - Single-Layer and Multilayer Perceptron Learning\n",
    "---\n",
    "\n",
    "**Part A** : Consider learning the following concepts with either a single-layer or multilayer perceptron where all hidden and output neurons utilize *indicator* activation functions. For each of the following concepts, state whether the concept can be learned by a single-layer perceptron. Briefly justify your response by providing weights and biases as applicable:\n",
    "\n",
    "i. $~ \\texttt{ NOT } x_1$\n",
    "\n",
    "ii. $~~x_1 \\texttt{ NAND } x_2$\n",
    "\n",
    "iii. $~~x_1 \\texttt{ XNOR } x_2$ (output 1 when $x_1 = x_2$ and 0 otherwise)"
   ]
  },
  {
   "cell_type": "markdown",
   "metadata": {
    "collapsed": true,
    "deletable": false,
    "nbgrader": {
     "checksum": "c85384be6b7c21b60e806f68a49d0a2d",
     "grade": true,
     "grade_id": "cell-5504bb80827fe61b",
     "locked": false,
     "points": 15,
     "schema_version": 1,
     "solution": true
    }
   },
   "source": [
    "**i. Yes, NOT $x_1$ can be learned from a single layer perceptron by setting the weight $w_1$ to $-1$ and the bias to $1$. When $x_1 = 1$, the output will be $0$. When $x_1 = 0$, the output will be $1$**\n",
    "\n",
    "**ii. Yes. $x_1$ NAND $x_2$ can be learned from a single layer perceptron by setting both $w_1$ and $w_2$ to $-1$ and bias to $1$. If one or both of the inputs are $1$, the output will be $0$. If both the inputs are $0$, the output will be $1$**\n",
    "\n",
    "**iii No. $x_1$ XNOR $x_2$ cannot be learned from a single layer perceptron because the 4 cases are not linearly seperable. If you plot (x1, x2), you will have (0,0) and (1,1) in class 1 and (0,1) and (1,0) in class 0.**"
   ]
  },
  {
   "cell_type": "markdown",
   "metadata": {},
   "source": [
    "**Part B** : Determine an architecture and specific values of the weights and biases in a single-layer or multilayer perceptron with *indicator* activation functions that can learn $x_1 \\texttt{ XNOR } x_2$. Describe your architecture and state your weight matrices and bias vectors in Markdown below. Then demonstrate that your solution is correct by implementing forward propagation for your network in Python and showing that it correctly produces the correct boolean output values for each of the four possible combinations of $x_1$ and $x_2$."
   ]
  },
  {
   "cell_type": "markdown",
   "metadata": {
    "collapsed": true,
    "deletable": false,
    "nbgrader": {
     "checksum": "4ba359fcd10f0c6fd31fbe9f9985af6c",
     "grade": true,
     "grade_id": "cell-fd1e475a5ef92def",
     "locked": false,
     "points": 10,
     "schema_version": 1,
     "solution": true
    }
   },
   "source": [
    "$x_1$ XNOR $x_2$ is the same as $(x_1$ AND $x_2)$ OR $(x_1$ NAND $x_2)$.\n",
    "\n",
    "$$\n",
    "w^1 = \\begin{bmatrix}\n",
    "1 & 1 \\\\\n",
    "-1 & -1 \\\\\n",
    "\\end{bmatrix}, \n",
    "b^1 = \\begin{bmatrix}\n",
    "-1.5 & 0.5 \\\\\n",
    "\\end{bmatrix}\n",
    "$$\n",
    "\n",
    "$$\n",
    "w^2 = \\begin{bmatrix}\n",
    "1 & 1\\\\\n",
    "\\end{bmatrix}, \n",
    "b^2 = -0.5\n",
    "$$"
   ]
  },
  {
   "cell_type": "code",
   "execution_count": 2,
   "metadata": {
    "deletable": false,
    "nbgrader": {
     "checksum": "6665c678216da8282104f9cf0397ceb2",
     "grade": true,
     "grade_id": "cell-330996afb5a81650",
     "locked": false,
     "points": 0,
     "schema_version": 1,
     "solution": true
    }
   },
   "outputs": [
    {
     "name": "stdout",
     "output_type": "stream",
     "text": [
      "Input: [0, 0] , Output: [1]\n",
      "Input: [0, 1] , Output: [0]\n",
      "Input: [1, 0] , Output: [0]\n",
      "Input: [1, 1] , Output: [1]\n"
     ]
    }
   ],
   "source": [
    "cases = [[0,0], [0,1], [1,0], [1,1]]\n",
    "weights = [[[1, 1], [-1,-1]], [[1,1]]]\n",
    "biases = [[-1.5, 0.5], [-0.5]]\n",
    "\n",
    "def compute_a_prime(case,weights,biases):\n",
    "    activations = [None] * len(biases)\n",
    "    for i in range(len(weights)):\n",
    "        dot = np.dot(case, weights[i])\n",
    "        activations[i] = 0 if dot + biases[i] <= 0 else 1\n",
    "    return activations\n",
    "\n",
    "def xnor(cases, weights, biases):\n",
    "    y_hat = []\n",
    "    for case in cases:\n",
    "        a = case\n",
    "        for i in range(len(biases)):\n",
    "            a = compute_a_prime(a, weights[i], biases[i])\n",
    "        y_hat.append(a)  \n",
    "    return y_hat\n",
    "\n",
    "y_hat = xnor(cases, weights, biases)\n",
    "for i in range(len(cases)):\n",
    "    print(\"Input:\", cases[i], \", Output:\", y_hat[i])"
   ]
  },
  {
   "cell_type": "markdown",
   "metadata": {},
   "source": [
    "[25 points] Problem 2 - Back propagation\n",
    "---\n"
   ]
  },
  {
   "cell_type": "markdown",
   "metadata": {},
   "source": [
    "In this problem you'll gain some intuition about why training deep neural networks can be very time consuming.  Consider training the chain-like neural network seen below: \n",
    "\n",
    "![chain-like nn](figs/chain_net.png)\n",
    "\n",
    "Note that this network has three weights $W^1, W^2, W^3$ and three biases $b^1, b^2,$ and $b^3$ (for this problem you can think of each parameter as a single value or as a $1 \\times 1$ matrix). Suppose that each hidden and output neuron is equipped with a sigmoid activation function and the loss function is given by \n",
    "\n",
    "$$\n",
    "\\ell(y, a^4) = \\frac{1}{2}(y - a^4)^2  \n",
    "$$\n",
    "\n",
    "where $a^4$ is the value of the activation at the output neuron and $y \\in \\{0,1\\}$ is the true label associated with the training example. "
   ]
  },
  {
   "cell_type": "markdown",
   "metadata": {},
   "source": [
    "**Part A**: Suppose each of the weights is initialized to $W^k = 1.0$ and each bias is initialized to $b^k = -0.5$.  Use forward propagation to find the activities and activations associated with each hidden and output neuron for the training example $(x, y) = (0.5,0)$. Show your work. "
   ]
  },
  {
   "cell_type": "markdown",
   "metadata": {
    "collapsed": true,
    "deletable": false,
    "nbgrader": {
     "checksum": "5ed8ae08caeac509ef436f5d18c8223c",
     "grade": true,
     "grade_id": "cell-6512c42fc5e9ce1b",
     "locked": false,
     "points": 5,
     "schema_version": 1,
     "solution": true
    }
   },
   "source": [
    "$a^1 = 0.5$\n",
    "\n",
    "$z^2 = 0.5 * 1 - 0.5 = 0$\n",
    "\n",
    "$a^2 = sigm(0) = 0.5$\n",
    "\n",
    "$z^3 = 0.5 * 1 - 0.5 = 0$\n",
    "\n",
    "$a^3 = sigm(0) = 0.5$\n",
    "\n",
    "$z^4 = 0.5 * 1 - 0.5 = 0$\n",
    "\n",
    "$a^4 = sigm(0) = 0.5$"
   ]
  },
  {
   "cell_type": "markdown",
   "metadata": {},
   "source": [
    "**Part B**: Use Back-Propagation to compute the weight and bias derivatives $\\partial \\ell / \\partial W^k$ and $\\partial \\ell / \\partial b^k$ for $k=1, 2, 3$.  Show all work. "
   ]
  },
  {
   "cell_type": "markdown",
   "metadata": {
    "collapsed": true,
    "deletable": false,
    "nbgrader": {
     "checksum": "d95b2a0dc16f45336d915205d119763a",
     "grade": true,
     "grade_id": "cell-6a3b895fa888e925",
     "locked": false,
     "points": 5,
     "schema_version": 1,
     "solution": true
    }
   },
   "source": [
    "$\\frac{\\partial C}{\\partial a^4} = a^4 - y$\n",
    "\n",
    "$g'(z) = sigm'(z) = sigm(z) * (1 - sigm(z))$\n",
    "\n",
    "$\\delta^4 = a^4 - y * sigm'(z^4) = (0.5 - 0) * sigm'(0) = 0.125$\n",
    "\n",
    "$\\frac{\\partial C}{\\partial W^3} = \\delta^4 * a^3 = 0.125 * 0.5 = 0.0625$\n",
    "\n",
    "$\\frac{\\partial C}{\\partial b^3} = \\delta^4 = 0.125$\n",
    "\n",
    "$\\delta^3 = (W^3 * \\delta^4) * sigm'(z^3) = (1.0 * 0.125) * sigm'(0) = 0.03125$\n",
    "\n",
    "$\\frac{\\partial C}{\\partial W^2} = \\delta^3 * a^2 = 0.03125 * 0.5 = 0.015625$\n",
    "\n",
    "$\\frac{\\partial C}{\\partial b^2} = \\delta^3 = 0.03125$\n",
    "\n",
    "$\\delta^2 = (W^2 * \\delta^3) * sigm'(z^2) = (1.0 * 0.03125) * sigm'(0) = 0.0078125$\n",
    "\n",
    "$\\frac{\\partial C}{\\partial W^1 } = \\delta^2 * a^1 = 0.0078125 * 0.5 = 0.00390625$\n",
    "\n",
    "$\\frac{\\partial C}{\\partial b^1} = \\delta^2 = 0.0078125$"
   ]
  },
  {
   "cell_type": "markdown",
   "metadata": {},
   "source": [
    "**PART C** Implement following activation functions:\n",
    "* Relu\n",
    "* Sigmoid\n",
    "* softmax"
   ]
  },
  {
   "cell_type": "code",
   "execution_count": 3,
   "metadata": {
    "deletable": false,
    "nbgrader": {
     "checksum": "a11601766c4f5d28f2b672ebe82b132e",
     "grade": false,
     "grade_id": "cell-3b7e3adaffe2c2ee",
     "locked": false,
     "schema_version": 1,
     "solution": true
    }
   },
   "outputs": [],
   "source": [
    "import math\n",
    "\n",
    "def relu(x):\n",
    "    return x if x > 0.0 else 0.0\n",
    "\n",
    "def sigmoid(x):\n",
    "    return (1 / (1 + np.exp(-x)))\n",
    "\n",
    "def soft_max(x):\n",
    "    ex = np.exp(x)\n",
    "    sum_ex = np.sum( np.exp(x))\n",
    "    return ex/sum_ex"
   ]
  },
  {
   "cell_type": "code",
   "execution_count": 4,
   "metadata": {
    "deletable": false,
    "editable": false,
    "nbgrader": {
     "checksum": "7a065137beda1d2059a79da7236a504c",
     "grade": true,
     "grade_id": "cell-0bded3752d3226b9",
     "locked": true,
     "points": 5,
     "schema_version": 1,
     "solution": false
    }
   },
   "outputs": [],
   "source": [
    "assert relu(5) == 5\n",
    "assert relu(-5) == 0\n",
    "assert relu(0) == 0\n",
    "assert relu(5) == 5\n",
    "\n",
    "assert sigmoid(0.458) == 0.61253961344091512\n",
    "assert sigmoid(2) == 0.8807970779778823\n",
    "res = soft_max([1,2,4])\n",
    "temp = [0.04201007, 0.1141952 , 0.84379473]\n",
    "for i in range(len(temp)):\n",
    "    assert res[i] - temp[i] < 1e-5"
   ]
  },
  {
   "cell_type": "markdown",
   "metadata": {},
   "source": [
    "**PART D** Implement the following Loss functions:\n",
    "* mean squared error\n",
    "* mean absolute error\n",
    "* hinge"
   ]
  },
  {
   "cell_type": "code",
   "execution_count": 5,
   "metadata": {
    "deletable": false,
    "nbgrader": {
     "checksum": "8c561dfa268b8b00a4ab84dbd1752d20",
     "grade": false,
     "grade_id": "cell-84456d343bfeca31",
     "locked": false,
     "schema_version": 1,
     "solution": true
    }
   },
   "outputs": [],
   "source": [
    "def mean_squared_error(yhat,y):\n",
    "    return np.square(np.subtract(y, yhat)).mean()\n",
    "    \n",
    "def mean_absolute_error(yhat,y):\n",
    "    return abs(np.subtract(y, yhat)).mean()\n",
    "\n",
    "def hinge(yhat,y):\n",
    "    err = 0.0\n",
    "    for i in range(0, y.shape[0]):\n",
    "        err += max(0, 1 - y[i] * yhat[i])\n",
    "    err = err / y.shape[0]\n",
    "    return err"
   ]
  },
  {
   "cell_type": "code",
   "execution_count": 6,
   "metadata": {
    "deletable": false,
    "editable": false,
    "nbgrader": {
     "checksum": "5a390d645725dff540dceab9d23c1c9c",
     "grade": true,
     "grade_id": "cell-550e920d814cb6d3",
     "locked": true,
     "points": 5,
     "schema_version": 1,
     "solution": false
    }
   },
   "outputs": [],
   "source": [
    "y_true = np.array([3, -0.5, 2, 7])\n",
    "y_pred = np.array([2.5, 0.0, 2, 8])\n",
    "assert mean_squared_error(y_pred,y_true) == 0.375\n",
    "assert mean_absolute_error(y_pred,y_true) == 0.5\n",
    "assert hinge(y_pred,y_true) == 0.25"
   ]
  },
  {
   "cell_type": "markdown",
   "metadata": {},
   "source": [
    "**PART E** Explain the vanishing gradient problem, when would you observe this?"
   ]
  },
  {
   "cell_type": "markdown",
   "metadata": {
    "collapsed": true,
    "deletable": false,
    "nbgrader": {
     "checksum": "550c7233d3dc395aa4965b23ce1126a4",
     "grade": true,
     "grade_id": "cell-59ccf91056b5d8bb",
     "locked": false,
     "points": 5,
     "schema_version": 1,
     "solution": true
    }
   },
   "source": [
    "The vanishing gradient problem is an issue that occurs when training neural nets using gradients and back propogation. With gradient based models like stochastic graident descent, the weights and biases at a given layer are updated using the gradient (derivative) of the loss function with respect to the current weights/biases at that layer and a learning rate. The issue is that if this gradient is vanishingly small, the weight and bias updates would be vanishingly small as well, so very little \"learning\" would occur, potentially leaving the weights and biases far from optimal.\n",
    "\n",
    "The issue occurs because the the weight update gradient $\\frac{\\partial C}{\\partial W^l}$ and the bias update gradient $\\frac{\\partial C}{\\partial b^l}$ are the product of derivatives that occur later in the network (layers > $l$). If these terms are less than 1 (or at lease some of them), their product will be smaller. As a result, the earlier a layer is in a network, especially a deep network, the more terms the gradient $\\frac{\\partial C}{\\partial W^l}$ and $\\frac{\\partial C}{\\partial b^l}$ will depend on, giving them the potential to shrink to an insignifigant value. This will result in insignifigsant updates. Additionally, the update value is also based on the learning rate, which itself can be a very small number (much less than 1) and shrink the update value further.\n",
    "\n",
    "You may observe this when a network is very deep, when wieghts are initialized to Gaussian values (between 0 and 1), when using a sigmoid loss function, etc."
   ]
  },
  {
   "cell_type": "markdown",
   "metadata": {},
   "source": [
    "[25 Points] Problem 3 - Build a feedForward neural network\n",
    "---\n",
    "\n",
    "In this problem you'll implement a general feed-forward neural network class that utilizes sigmoid activation functions. Your tasks will be to implement forward propagation, prediction, back propagation, and a general train routine to learn the weights in your network via stochastic gradient descent.\n",
    "\n",
    "The skeleton for the network class is below. Note that this class is almost identical to the one you worked with in the hands-On neural network in-class notebook, so you should look there to remind yourself of the details. Scroll down to find more information about your tasks as well as unit tests."
   ]
  },
  {
   "cell_type": "code",
   "execution_count": 1,
   "metadata": {
    "deletable": false,
    "nbgrader": {
     "checksum": "edeb900917edc30fc748c3f4fa77237a",
     "grade": false,
     "grade_id": "cell-b8abc0ac570aac74",
     "locked": false,
     "schema_version": 1,
     "solution": true
    }
   },
   "outputs": [],
   "source": [
    "import argparse\n",
    "import numpy as np\n",
    "import pickle\n",
    "import gzip\n",
    "import matplotlib.pyplot as plt\n",
    "\n",
    "\n",
    "class Network:\n",
    "    def __init__(self, sizes):\n",
    "        self.L = len(sizes)\n",
    "        self.sizes = sizes\n",
    "        self.biases = [np.random.randn(n, 1) for n in self.sizes[1:]]\n",
    "        self.weights = [np.random.randn(n, m) for (\n",
    "            m, n) in zip(self.sizes[:-1], self.sizes[1:])]\n",
    "\n",
    "    def g(self, z):\n",
    "        \"\"\"\n",
    "        activation function\n",
    "        \"\"\"\n",
    "        return sigmoid(z)\n",
    "\n",
    "    def g_prime(self, z):\n",
    "        \"\"\"\n",
    "        derivative of activation function\n",
    "        \"\"\"\n",
    "        return sigmoid_prime(z)\n",
    "\n",
    "    def forward_prop(self, a):\n",
    "        \"\"\"\n",
    "        memory aware forward propagation for testing\n",
    "        only.  back_prop implements it's own forward_prop\n",
    "        \"\"\"\n",
    "        for l in range(self.L - 1):\n",
    "            z = np.dot(self.weights[l], a) + self.biases[l]\n",
    "            a = self.g(z)\n",
    "            \n",
    "        return a\n",
    "    \n",
    "    def grad_cost(self, a, y):\n",
    "        \"\"\"\n",
    "        gradient of cost function\n",
    "        Assumes C(a,y) = (a-y)^2/2\n",
    "        \"\"\"\n",
    "        return (a - y)\n",
    "\n",
    "    def SGD_train(self, train, epochs, eta, lam=0.0, verbose=True, test=None):\n",
    "        \"\"\"\n",
    "        SGD for training parameters\n",
    "        epochs is the number of epocs to run\n",
    "        eta is the learning rate\n",
    "        lam is the regularization parameter\n",
    "        If verbose is set will print progressive accuracy updates\n",
    "        If test set is provided, routine will print accuracy on test set as learning evolves\n",
    "        \"\"\"\n",
    "        n_train = len(train)\n",
    "        epoch_accuracy_list = []  # omit\n",
    "        hidden_acc_train = 0  # omit\n",
    "        hidden_acc_test = 0  # omit\n",
    "        \n",
    "        for epoch in range(epochs):\n",
    "            shuffled = np.random.permutation(n_train)\n",
    "            \n",
    "            for i in shuffled:\n",
    "                x_train = train[i][0]\n",
    "                y_train = train[i][1]\n",
    "                dW_list, db_list = self.back_prop(x_train, y_train)\n",
    "                \n",
    "                self.weights = [w - eta*(dW+lam*w) for w, dW in zip(self.weights,dW_list)]\n",
    "                self.biases = [b - eta*db for b, db in zip(self.biases, db_list)]\n",
    "                \n",
    "            if verbose:\n",
    "                if epoch == 0 or (epoch + 1) % 10 == 0:\n",
    "                    acc_train = self.evaluate(train)\n",
    "                    if test is not None:\n",
    "                        acc_test = self.evaluate(test)\n",
    "                        # epoch_accuracy_list.append((acc_test,acc_train))    #omit\n",
    "                        print(\"Epoch {:4d}: Train {:10.5f}, Test {:10.5f}\".format(\n",
    "                            epoch+1, acc_train, acc_test))\n",
    "                    else:\n",
    "                        print(\"Epoch {:4d}: Train {:10.5f}\".format(\n",
    "                            epoch+1, acc_train))\n",
    "                    \n",
    "\n",
    "    def back_prop(self, x, y):\n",
    "        \"\"\"\n",
    "        Back propagation for derivatives of C wrt parameters\n",
    "        \"\"\"\n",
    "        db_list = [np.zeros(b.shape) for b in self.biases]\n",
    "        dW_list = [np.zeros(W.shape) for W in self.weights]\n",
    "\n",
    "        a = x\n",
    "        a_list = [a]\n",
    "        z_list = [np.zeros(a.shape)]  # Pad with throwaway so indices match\n",
    "\n",
    "        for W, b in zip(self.weights, self.biases):\n",
    "            z = np.dot(W, a) + b\n",
    "            z_list.append(z)\n",
    "            a = self.g(z)\n",
    "            a_list.append(a)\n",
    "\n",
    "        # Back propagate deltas to compute derivatives\n",
    "        # The following list gives hints on how to do it\n",
    "        # calculating delta (Error) for the output layer\n",
    "        # for the appropriate layers compute db_list[ell], dW_list[ell], delta\n",
    "\n",
    "        delta = (a_list[self.L-1] - y) * self.g_prime(z_list[self.L-1])\n",
    "        \n",
    "        for l in range(self.L - 2, -1, -1):\n",
    "            dW_list[l] = np.outer(delta, a_list[l])\n",
    "            db_list[l] = delta\n",
    "            delta = np.dot(self.weights[l].transpose(), delta) * self.g_prime(z_list[l])\n",
    "        return (dW_list, db_list)\n",
    "\n",
    "    def evaluate(self, test):\n",
    "        \"\"\"\n",
    "        Evaluate current model on labeled test data\n",
    "        \"\"\"\n",
    "        ctr = 0\n",
    "        for x, y in test:\n",
    "            yhat = self.forward_prop(x)\n",
    "            ctr += np.argmax(yhat) == np.argmax(y)\n",
    "        return float(ctr) / float(len(test))\n",
    "\n",
    "\n",
    "def sigmoid(z, threshold=20):\n",
    "    z = np.clip(z, -threshold, threshold)\n",
    "    return 1.0/(1.0+np.exp(-z))\n",
    "\n",
    "\n",
    "def sigmoid_prime(z):\n",
    "    return sigmoid(z) * (1.0 - sigmoid(z))\n",
    "\n",
    "\n",
    "def mnist_digit_show(flatimage, outname=None):\n",
    "\n",
    "    import matplotlib.pyplot as plt\n",
    "\n",
    "    image = np.reshape(flatimage, (-1, 14))\n",
    "\n",
    "    plt.matshow(image, cmap=plt.cm.binary)\n",
    "    plt.xticks([])\n",
    "    plt.yticks([])\n",
    "    if outname:\n",
    "        plt.savefig(outname)\n",
    "    else:\n",
    "        plt.show()"
   ]
  },
  {
   "cell_type": "markdown",
   "metadata": {},
   "source": [
    "**PART A** Implement *SGD_train, back_prop,forward_prop*. Use the following test cases to verify if the code is working as expected."
   ]
  },
  {
   "cell_type": "code",
   "execution_count": 2,
   "metadata": {
    "deletable": false,
    "editable": false,
    "nbgrader": {
     "checksum": "6f57fea6be415a9b96f9fffdd56d78c3",
     "grade": true,
     "grade_id": "cell-7632a78793a2588e",
     "locked": true,
     "points": 15,
     "schema_version": 1,
     "solution": false
    }
   },
   "outputs": [
    {
     "name": "stderr",
     "output_type": "stream",
     "text": [
      ".."
     ]
    },
    {
     "name": "stdout",
     "output_type": "stream",
     "text": [
      "Epoch    1: Train    0.50000\n"
     ]
    },
    {
     "name": "stderr",
     "output_type": "stream",
     "text": [
      "\n",
      "----------------------------------------------------------------------\n",
      "Ran 2 tests in 0.195s\n",
      "\n",
      "OK\n"
     ]
    }
   ],
   "source": [
    "%run -i tests/tests.py"
   ]
  },
  {
   "cell_type": "markdown",
   "metadata": {},
   "source": [
    "** PART B **\n",
    "\n",
    "Run the above Network on MNIST Dataset and report the following (feel free to experiment with different learning rates).\n",
    "* Define the hidden layer dimension appropriate for this dataset and report the accuracy for 200 epochs.\n",
    "* Explain the effect of hidden dimension with appropriate plots (check training accuracy and test accuracy). \n",
    "* Explain the effect of number of epochs on MNIST Data."
   ]
  },
  {
   "cell_type": "code",
   "execution_count": 23,
   "metadata": {
    "scrolled": false
   },
   "outputs": [
    {
     "name": "stdout",
     "output_type": "stream",
     "text": [
      "Number of Input Features:  196\n",
      "Number of Output classes:  10\n",
      "\n",
      "Hidden Layer Dimensions:  25\n",
      "Epoch    1: Train    0.55222, Test    0.49380\n",
      "Epoch   10: Train    0.90956, Test    0.83393\n",
      "Epoch   20: Train    0.93117, Test    0.84874\n",
      "Epoch   30: Train    0.94598, Test    0.87315\n",
      "Epoch   40: Train    0.94958, Test    0.87155\n",
      "Epoch   50: Train    0.95518, Test    0.87715\n",
      "Epoch   60: Train    0.95958, Test    0.87475\n",
      "Epoch   70: Train    0.95998, Test    0.88075\n",
      "Epoch   80: Train    0.95958, Test    0.87955\n",
      "Epoch   90: Train    0.96599, Test    0.88395\n",
      "Epoch  100: Train    0.96719, Test    0.88475\n",
      "Epoch  110: Train    0.96639, Test    0.88355\n",
      "Epoch  120: Train    0.96999, Test    0.88715\n",
      "Epoch  130: Train    0.96879, Test    0.87835\n",
      "Epoch  140: Train    0.96679, Test    0.87955\n",
      "Epoch  150: Train    0.96759, Test    0.88315\n",
      "Epoch  160: Train    0.97279, Test    0.88836\n",
      "Epoch  170: Train    0.97079, Test    0.88595\n",
      "Epoch  180: Train    0.96959, Test    0.89156\n",
      "Epoch  190: Train    0.97079, Test    0.89196\n",
      "Epoch  200: Train    0.96799, Test    0.88475\n"
     ]
    }
   ],
   "source": [
    "location = './data/tinyMNIST.pkl.gz'\n",
    "f = gzip.open(location, 'rb')\n",
    "u = pickle._Unpickler(f)\n",
    "u.encoding = 'latin1'\n",
    "train, test = u.load()\n",
    "input_dimensions = len(train[0][0])\n",
    "output_dimensions = len(train[0][1])\n",
    "hidden_layer_dimensions = 25\n",
    "print('Number of Input Features: ', input_dimensions)\n",
    "print('Number of Output classes: ', output_dimensions)\n",
    "print('\\nHidden Layer Dimensions: ', hidden_layer_dimensions)\n",
    "nn = Network([input_dimensions, hidden_layer_dimensions, output_dimensions])\n",
    "nn.SGD_train(train, epochs=200, eta=0.15, lam=0.0001, verbose=True, test=test)"
   ]
  },
  {
   "cell_type": "code",
   "execution_count": 20,
   "metadata": {},
   "outputs": [
    {
     "name": "stdout",
     "output_type": "stream",
     "text": [
      "[0.2845138055222089, 0.9459783913565426, 0.9655862344937975, 0.9687875150060024, 0.9523809523809523]\n",
      "[0.28731492597038816, 0.8563425370148059, 0.8803521408563425, 0.8863545418167267, 0.8719487795118047]\n"
     ]
    }
   ],
   "source": [
    "acc_train = []\n",
    "acc_test = []\n",
    "hidden_layers = [1, 10, 25, 100, 300]\n",
    "for i in hidden_layers:\n",
    "    nn = Network([input_dimensions, i, output_dimensions])\n",
    "    nn.SGD_train(train, epochs=100, eta=0.15, lam=0.0001, verbose=False, test=test)\n",
    "    acc_train.append(nn.evaluate(train))\n",
    "    acc_test.append(nn.evaluate(test))\n",
    "print(acc_train)\n",
    "print(acc_test)"
   ]
  },
  {
   "cell_type": "code",
   "execution_count": 21,
   "metadata": {},
   "outputs": [
    {
     "data": {
      "text/plain": [
       "<matplotlib.legend.Legend at 0x11ebebcf8>"
      ]
     },
     "execution_count": 21,
     "metadata": {},
     "output_type": "execute_result"
    },
    {
     "data": {
      "image/png": "[encoded data removed]",
      "text/plain": [
       "<Figure size 432x288 with 1 Axes>"
      ]
     },
     "metadata": {},
     "output_type": "display_data"
    }
   ],
   "source": [
    "plt.xlabel(\"Number of Hidden Layers\")\n",
    "plt.ylabel(\"Accuracy\")\n",
    "plt.plot(hidden_layers, acc_train, label=\"Training Accuracy\")\n",
    "plt.plot(hidden_layers, acc_test, label=\"Testing Accuracy\")\n",
    "plt.legend(loc=\"lower right\")"
   ]
  },
  {
   "cell_type": "markdown",
   "metadata": {},
   "source": [
    "As shown in the plot above, increasing the number of hidden layers increases the accuracy (both train and test) very quickly up to about 10 layers. After that point, the accuracy stays very consistent and actually begins a gradual slope down. I didn't run more hidden layers for time sake, but I would expect to continue to see the accuracy decline as the number of hidden layers increases substantially, in part due to the vanishing graident problem."
   ]
  },
  {
   "cell_type": "markdown",
   "metadata": {},
   "source": [
    "Increasing the number of epochs does initially increase both the train and test accuracy. For example, in my model, the jump in test accuracy from epoch 1 to epoch 10 was almost 30%. However, in this case, my test accuracy never got any higher than about 88%, regardless of the number of epochs. It first reached that approximate max at about 100 epochs and there was no further gain from later epochs. So epochs do increase accuracy to a certain point, and then are no longer useful."
   ]
  },
  {
   "cell_type": "code",
   "execution_count": null,
   "metadata": {
    "deletable": false,
    "nbgrader": {
     "checksum": "00229a006d4ea5e874a44656862cf7a9",
     "grade": true,
     "grade_id": "cell-f7345360536d4c03",
     "locked": false,
     "points": 10,
     "schema_version": 1,
     "solution": true
    }
   },
   "outputs": [],
   "source": []
  },
  {
   "cell_type": "markdown",
   "metadata": {},
   "source": [
    "[25 Points] Problem 4 - Implement RNN Network to classify whether text is spam or ham \n",
    "---\n",
    "\n",
    "Dataset is obtained from UCI Machine Learning repository consisting of SMS tagged messages (being ham (legitimate) or spam) that have been collected for SMS Spam research.\n"
   ]
  },
  {
   "cell_type": "markdown",
   "metadata": {},
   "source": [
    "Use [Keras](https://keras.io/) to implement a classifier (you need to install Keras). Update the below snippet to build a Sequential model with an embedding layer, and an LSTM layer followed by a dense layer. This question allows you to get familiar with popular deep learning toolkits and the solution only has a few lines. In practice, there is no need to reinvent the wheels.\n",
    "\n",
    "\n",
    "Learn more about RNN : https://colah.github.io/posts/2015-08-Understanding-LSTMs/"
   ]
  },
  {
   "cell_type": "code",
   "execution_count": 26,
   "metadata": {
    "deletable": false,
    "nbgrader": {
     "checksum": "1861dc0bde6838c86a3ed478308544cb",
     "grade": false,
     "grade_id": "cell-e5faa2bc69b4d8cf",
     "locked": false,
     "schema_version": 1,
     "solution": true
    }
   },
   "outputs": [],
   "source": [
    "from keras.datasets import imdb\n",
    "from keras.models import Sequential\n",
    "from keras.layers import Dense\n",
    "from keras.layers import LSTM\n",
    "from keras.layers.embeddings import Embedding\n",
    "from keras.preprocessing import sequence\n",
    "from keras.preprocessing.text import Tokenizer\n",
    "\n",
    "\n",
    "class RNN:\n",
    "    '''\n",
    "    RNN classifier\n",
    "    '''\n",
    "\n",
    "    def __init__(self, train_x, train_y, test_x, test_y, dict_size=5000,\n",
    "                 example_length=150, embedding_length=32, epoches=5, batch_size=128):\n",
    "        '''\n",
    "        initialize RNN model\n",
    "        :param train_x: training data\n",
    "        :param train_y: training label\n",
    "        :param test_x: test data\n",
    "        :param test_y: test label\n",
    "        :param epoches: number of ephoches to run\n",
    "        :param batch_size: batch size in training\n",
    "        :param embedding_length: size of word embedding\n",
    "        :param example_length: length of examples\n",
    "        '''\n",
    "        self.batch_size = batch_size\n",
    "        self.epoches = epoches\n",
    "        self.example_len = example_length\n",
    "        self.dict_size = dict_size\n",
    "        self.embedding_len = embedding_length\n",
    "\n",
    "        # preprocess training data\n",
    "        tok = Tokenizer(num_words=dict_size)\n",
    "        tok.fit_on_texts(train_x)\n",
    "        sequences = tok.texts_to_sequences(train_x)\n",
    "        self.train_x = sequence.pad_sequences(\n",
    "            sequences, maxlen=self.example_len)\n",
    "        sequences = tok.texts_to_sequences(test_x)\n",
    "        self.test_x = sequence.pad_sequences(\n",
    "            sequences, maxlen=self.example_len)\n",
    "\n",
    "        self.train_y = train_y\n",
    "        self.test_y = test_y\n",
    "\n",
    "        # TODO: build model with Embedding, LSTM and dense layers.\n",
    "        # refer to Sequence classification with LSTM : https://keras.io/getting-started/sequential-model-guide/#examples\n",
    "        # Documentation for LSTM layer in : https://keras.io/layers/recurrent/#lstm\n",
    "        self.model = Sequential()\n",
    "        self.model.add(Embedding(self.dict_size, output_dim=self.embedding_len))\n",
    "        self.model.add(LSTM(self.embedding_len, dropout = 0.5))\n",
    "        self.model.add(Dense(1, activation='sigmoid'))\n",
    "        self.model.compile(loss='binary_crossentropy', \n",
    "                           optimizer='adam', metrics=['accuracy'])\n",
    "\n",
    "    def train(self, verbose=0):\n",
    "        '''\n",
    "        fit in data and train model : refer fit method in https://keras.io/models/model/\n",
    "        make sure you use batchsize and epochs appropriately.\n",
    "        :return:None\n",
    "        '''\n",
    "        # TODO: fit in data to train your model\n",
    "        self.model.fit(self.train_x,self.train_y, self.batch_size, self.epoches, verbose=verbose)\n",
    "\n",
    "    def evaluate(self):\n",
    "        '''\n",
    "\n",
    "        evaluate trained model : Please refer evaluate in https://keras.io/models/model/\n",
    "        :return: [loss,accuracy]\n",
    "        '''\n",
    "        return self.model.evaluate(self.test_x, self.test_y)"
   ]
  },
  {
   "cell_type": "markdown",
   "metadata": {},
   "source": [
    "Complete the following functions *init, train and evaluate functions* and report the accuracy"
   ]
  },
  {
   "cell_type": "code",
   "execution_count": 27,
   "metadata": {
    "deletable": false,
    "editable": false,
    "nbgrader": {
     "checksum": "86cd8ba5f6ed607811db54ae4b5634f8",
     "grade": false,
     "grade_id": "cell-b16c4115704765f4",
     "locked": true,
     "schema_version": 1,
     "solution": false
    }
   },
   "outputs": [],
   "source": [
    "import keras\n",
    "assert keras.__version__ == '2.2.2'"
   ]
  },
  {
   "cell_type": "code",
   "execution_count": 30,
   "metadata": {},
   "outputs": [],
   "source": [
    "import pickle\n",
    "def load_data(location):\n",
    "    return pickle.load(open(location,'rb'))"
   ]
  },
  {
   "cell_type": "code",
   "execution_count": 39,
   "metadata": {},
   "outputs": [
    {
     "name": "stdout",
     "output_type": "stream",
     "text": [
      "Epoch 1/5\n",
      "4736/4736 [==============================] - 9s 2ms/step - loss: 0.4961 - acc: 0.8480\n",
      "Epoch 2/5\n",
      "4736/4736 [==============================] - 5s 1ms/step - loss: 0.2205 - acc: 0.9039\n",
      "Epoch 3/5\n",
      "4736/4736 [==============================] - 5s 1ms/step - loss: 0.1052 - acc: 0.9768\n",
      "Epoch 4/5\n",
      "4736/4736 [==============================] - 5s 1ms/step - loss: 0.0634 - acc: 0.9869\n",
      "Epoch 5/5\n",
      "4736/4736 [==============================] - 5s 1ms/step - loss: 0.0439 - acc: 0.9911\n",
      "836/836 [==============================] - 2s 2ms/step\n",
      "Accuracy for LSTM:  0.992822966507177\n"
     ]
    }
   ],
   "source": [
    "train_x, test_x, train_y, test_y = load_data('./data/spam_data.pkl')\n",
    "rnn = RNN(train_x, train_y, test_x, test_y, epoches=5)\n",
    "rnn.train(verbose=1)\n",
    "accuracy = rnn.evaluate()\n",
    "print('Accuracy for LSTM: ', accuracy[1])"
   ]
  },
  {
   "cell_type": "markdown",
   "metadata": {
    "collapsed": true
   },
   "source": [
    "Accuracy after 5 epochs."
   ]
  },
  {
   "cell_type": "code",
   "execution_count": 42,
   "metadata": {},
   "outputs": [
    {
     "name": "stdout",
     "output_type": "stream",
     "text": [
      "Accuracy after 5 epochs:  0.992822966507177\n"
     ]
    }
   ],
   "source": [
    "print('Accuracy after 5 epochs: ', accuracy[1])"
   ]
  },
  {
   "cell_type": "markdown",
   "metadata": {},
   "source": [
    "* Change the embedding length and observe the impact on test and train accuracy.\n",
    "\n",
    "* Explain the impact of embedding length in LSTM Model by providing plots of accuracy vs embedding length."
   ]
  },
  {
   "cell_type": "code",
   "execution_count": 40,
   "metadata": {
    "deletable": false,
    "nbgrader": {
     "checksum": "97a255265b4bdabdf5f448cdb5fa9d7d",
     "grade": true,
     "grade_id": "cell-4c9a9edc927e69ee",
     "locked": false,
     "points": 10,
     "schema_version": 1,
     "solution": true
    }
   },
   "outputs": [
    {
     "name": "stdout",
     "output_type": "stream",
     "text": [
      "836/836 [==============================] - 2s 2ms/step\n",
      "836/836 [==============================] - 2s 2ms/step\n",
      "836/836 [==============================] - 2s 2ms/step\n",
      "836/836 [==============================] - 2s 3ms/step\n",
      "836/836 [==============================] - 2s 3ms/step\n",
      "836/836 [==============================] - 2s 3ms/step\n",
      "836/836 [==============================] - 3s 3ms/step\n",
      "[0.8708133971291866, 0.8708133971291866, 0.8755980861244019, 0.9617224880382775, 0.9844497607655502, 0.9916267942583732, 0.9964114832535885]\n"
     ]
    }
   ],
   "source": [
    "embedding_lengths = [2**x for x in range(0,7)]\n",
    "accuracy_list = []\n",
    "for l in embedding_lengths:\n",
    "    rnn2 = RNN(train_x, train_y, test_x, test_y, epoches=5, embedding_length=l)\n",
    "    rnn2.train(verbose=0)\n",
    "    accuracy_list.append(rnn2.evaluate()[1])\n",
    "print(accuracy_list)"
   ]
  },
  {
   "cell_type": "code",
   "execution_count": 41,
   "metadata": {},
   "outputs": [
    {
     "data": {
      "text/plain": [
       "[<matplotlib.lines.Line2D at 0xb38869ac8>]"
      ]
     },
     "execution_count": 41,
     "metadata": {},
     "output_type": "execute_result"
    },
    {
     "data": {
      "image/png": "[encoded data removed]",
      "text/plain": [
       "<Figure size 432x288 with 1 Axes>"
      ]
     },
     "metadata": {
      "needs_background": "light"
     },
     "output_type": "display_data"
    }
   ],
   "source": [
    "plt.xlabel(\"Embedding Length\")\n",
    "plt.ylabel(\"Accuracy\")\n",
    "plt.plot(embedding_lengths, accuracy_list)"
   ]
  },
  {
   "cell_type": "markdown",
   "metadata": {},
   "source": [
    "As we can see from the plot above, as the embedding length increases, the accuracy increases. There is a sharp jump in accuracy around embedding_len = 4, and then the accuracy begins to level out. This means that a higher dimensionality of LTSM output can provided greater accuracy, but at a cosr of computation time."
   ]
  },
  {
   "cell_type": "code",
   "execution_count": null,
   "metadata": {},
   "outputs": [],
   "source": []
  }
 ],
 "metadata": {
  "kernelspec": {
   "display_name": "Python 3",
   "language": "python",
   "name": "python3"
  },
  "language_info": {
   "codemirror_mode": {
    "name": "ipython",
    "version": 3
   },
   "file_extension": ".py",
   "mimetype": "text/x-python",
   "name": "python",
   "nbconvert_exporter": "python",
   "pygments_lexer": "ipython3",
   "version": "3.6.6"
  }
 },
 "nbformat": 4,
 "nbformat_minor": 2
}
